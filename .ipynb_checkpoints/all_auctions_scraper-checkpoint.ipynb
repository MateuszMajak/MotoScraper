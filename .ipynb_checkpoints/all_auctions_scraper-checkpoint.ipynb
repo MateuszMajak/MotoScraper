{
 "cells": [
  {
   "cell_type": "code",
   "execution_count": 20,
   "id": "reported-shanghai",
   "metadata": {},
   "outputs": [
    {
     "name": "stdout",
     "output_type": "stream",
     "text": [
      "Requirement already satisfied: numpy in c:\\users\\admin\\appdata\\local\\programs\\python\\python38\\lib\\site-packages (1.20.1)\n",
      "Requirement already satisfied: bs4 in c:\\users\\admin\\appdata\\local\\programs\\python\\python38\\lib\\site-packages (0.0.1)\n",
      "Requirement already satisfied: beautifulsoup4 in c:\\users\\admin\\appdata\\local\\programs\\python\\python38\\lib\\site-packages (from bs4) (4.9.3)\n",
      "Requirement already satisfied: soupsieve>1.2 in c:\\users\\admin\\appdata\\local\\programs\\python\\python38\\lib\\site-packages (from beautifulsoup4->bs4) (2.2)\n",
      "Requirement already satisfied: pandas in c:\\users\\admin\\appdata\\local\\programs\\python\\python38\\lib\\site-packages (1.2.3)\n",
      "Requirement already satisfied: python-dateutil>=2.7.3 in c:\\users\\admin\\appdata\\local\\programs\\python\\python38\\lib\\site-packages (from pandas) (2.8.1)\n",
      "Requirement already satisfied: numpy>=1.16.5 in c:\\users\\admin\\appdata\\local\\programs\\python\\python38\\lib\\site-packages (from pandas) (1.20.1)\n",
      "Requirement already satisfied: pytz>=2017.3 in c:\\users\\admin\\appdata\\local\\programs\\python\\python38\\lib\\site-packages (from pandas) (2021.1)\n",
      "Requirement already satisfied: six>=1.5 in c:\\users\\admin\\appdata\\local\\programs\\python\\python38\\lib\\site-packages (from python-dateutil>=2.7.3->pandas) (1.15.0)\n",
      "Requirement already satisfied: datetime in c:\\users\\admin\\appdata\\local\\programs\\python\\python38\\lib\\site-packages (4.3)\n",
      "Requirement already satisfied: zope.interface in c:\\users\\admin\\appdata\\local\\programs\\python\\python38\\lib\\site-packages (from datetime) (5.2.0)\n",
      "Requirement already satisfied: pytz in c:\\users\\admin\\appdata\\local\\programs\\python\\python38\\lib\\site-packages (from datetime) (2021.1)\n",
      "Requirement already satisfied: setuptools in c:\\users\\admin\\appdata\\local\\programs\\python\\python38\\lib\\site-packages (from zope.interface->datetime) (49.2.1)\n",
      "Collecting selenium\n",
      "  Downloading selenium-3.141.0-py2.py3-none-any.whl (904 kB)\n",
      "Requirement already satisfied: urllib3 in c:\\users\\admin\\appdata\\local\\programs\\python\\python38\\lib\\site-packages (from selenium) (1.26.3)\n",
      "Installing collected packages: selenium\n",
      "Successfully installed selenium-3.141.0\n"
     ]
    }
   ],
   "source": [
    "#installing packages in JupyterLab temporarily\n",
    "import sys\n",
    "!{sys.executable} -m pip install numpy\n",
    "!{sys.executable} -m pip install bs4\n",
    "!{sys.executable} -m pip install pandas\n",
    "!{sys.executable} -m pip install datetime\n",
    "!{sys.executable} -m pip install selenium"
   ]
  },
  {
   "cell_type": "markdown",
   "id": "restricted-vegetarian",
   "metadata": {},
   "source": [
    "**Packages**"
   ]
  },
  {
   "cell_type": "code",
   "execution_count": 113,
   "id": "distant-today",
   "metadata": {},
   "outputs": [],
   "source": [
    "from urllib.request import Request, urlopen\n",
    "from bs4 import BeautifulSoup as BS\n",
    "from selenium import webdriver\n",
    "from datetime import datetime\n",
    "import pandas as pd\n",
    "import datetime\n",
    "import getpass\n",
    "import time\n",
    "import re"
   ]
  },
  {
   "cell_type": "markdown",
   "id": "lonely-tongue",
   "metadata": {},
   "source": [
    "**All pages with urls scraping**"
   ]
  },
  {
   "cell_type": "code",
   "execution_count": 122,
   "id": "separated-study",
   "metadata": {},
   "outputs": [
    {
     "name": "stdout",
     "output_type": "stream",
     "text": [
      "Max site number: 500\n",
      "loop:   0\n",
      "loop:   1\n",
      "loop:   2\n"
     ]
    }
   ],
   "source": [
    "############################################################################\n",
    "# Downloading offers' urls and titles from the website controlled by Selenium\n",
    "url = 'https://www.otomoto.pl/osobowe/'\n",
    "\n",
    "options = webdriver.firefox.options.Options()\n",
    "options.headless = False\n",
    "\n",
    "driver = webdriver.Firefox(executable_path=r'C:\\Users\\Admin\\Downloads\\geckodriver-v0.29.0-win64\\geckodriver.exe')\n",
    "driver.get(url)\n",
    "# create BS object from the page source\n",
    "bs = BS(driver.page_source, 'html.parser')\n",
    "\n",
    "#### click accept COOKIEs button\n",
    "# waiting a few seconds to be sure that page will be fully loaded\n",
    "time.sleep(4)\n",
    "button = driver.find_element_by_xpath('//*[@id=\"onetrust-accept-btn-handler\"]').click()\n",
    "\n",
    "# Extracting number of pages with offers list to iterate\n",
    "maxSites = bs.find_all('span', {'class':'page'})[-1].text\n",
    "print(\"Max site number: \" + maxSites)\n",
    "\n",
    "maxSites = 3 #zmienione do testowania\n",
    "\n",
    "# All offers' titles and urls scraping\n",
    "url_list = []\n",
    "title_list = []\n",
    "\n",
    "for i in range(int(maxSites)):\n",
    "    if(i > 0):\n",
    "        button = driver.find_element_by_xpath('//span[@class=\"icon-arrow_right\"]').click()\n",
    "\n",
    "    time.sleep(5)\n",
    "    bs = BS(driver.page_source, 'html.parser')\n",
    "\n",
    "    titles = bs.find_all('a', {'class':'offer-title__link'}) \n",
    "\n",
    "    links = [title['href'] for title in titles]\n",
    "    \n",
    "    titles_text = [title.text.strip() for title in titles]\n",
    " \n",
    "    for link in links:\n",
    "        url_list.append(link)\n",
    "    for title in titles_text:\n",
    "        title_list.append(title)\n",
    "        \n",
    "    print('loop:  ', i)\n",
    "    \n",
    "# Close browser:\n",
    "driver.quit()"
   ]
  },
  {
   "cell_type": "code",
   "execution_count": 154,
   "id": "appointed-anderson",
   "metadata": {},
   "outputs": [
    {
     "name": "stdout",
     "output_type": "stream",
     "text": [
      "Hyundai i20 1.25\n",
      "#############\n",
      "https://www.otomoto.pl/oferta/hyundai-i20-model-2015-klima-tempomat-ledy-100-oryg-przebieg-86tys-ID6DFqDw.html#7ce9f71ee3\n"
     ]
    }
   ],
   "source": [
    "print(title_list[1])\n",
    "print(\"#############\")\n",
    "print(url_list[1])"
   ]
  },
  {
   "cell_type": "code",
   "execution_count": 147,
   "id": "characteristic-columbia",
   "metadata": {},
   "outputs": [],
   "source": [
    "# Save urls to df\n",
    "urls_df = pd.DataFrame({'offer_title': title_list, 'link': url_list})\n",
    "urls_df.to_csv('urls.csv', index=False, encoding=\"Windows-1252\")"
   ]
  },
  {
   "cell_type": "code",
   "execution_count": 110,
   "id": "elementary-generation",
   "metadata": {},
   "outputs": [],
   "source": [
    "headerOne = {'User-Agent': 'Mozilla/5.0'}\n",
    "\n"
   ]
  },
  {
   "cell_type": "code",
   "execution_count": null,
   "id": "continuous-economy",
   "metadata": {},
   "outputs": [],
   "source": []
  }
 ],
 "metadata": {
  "kernelspec": {
   "display_name": "Python 3",
   "language": "python",
   "name": "python3"
  },
  "language_info": {
   "codemirror_mode": {
    "name": "ipython",
    "version": 3
   },
   "file_extension": ".py",
   "mimetype": "text/x-python",
   "name": "python",
   "nbconvert_exporter": "python",
   "pygments_lexer": "ipython3",
   "version": "3.8.7"
  }
 },
 "nbformat": 4,
 "nbformat_minor": 5
}
