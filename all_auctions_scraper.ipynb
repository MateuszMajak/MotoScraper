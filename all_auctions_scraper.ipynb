{
 "cells": [
  {
   "cell_type": "code",
   "execution_count": 20,
   "id": "numerous-nelson",
   "metadata": {},
   "outputs": [
    {
     "name": "stdout",
     "output_type": "stream",
     "text": [
      "Requirement already satisfied: numpy in c:\\users\\admin\\appdata\\local\\programs\\python\\python38\\lib\\site-packages (1.20.1)\n",
      "Requirement already satisfied: bs4 in c:\\users\\admin\\appdata\\local\\programs\\python\\python38\\lib\\site-packages (0.0.1)\n",
      "Requirement already satisfied: beautifulsoup4 in c:\\users\\admin\\appdata\\local\\programs\\python\\python38\\lib\\site-packages (from bs4) (4.9.3)\n",
      "Requirement already satisfied: soupsieve>1.2 in c:\\users\\admin\\appdata\\local\\programs\\python\\python38\\lib\\site-packages (from beautifulsoup4->bs4) (2.2)\n",
      "Requirement already satisfied: pandas in c:\\users\\admin\\appdata\\local\\programs\\python\\python38\\lib\\site-packages (1.2.3)\n",
      "Requirement already satisfied: python-dateutil>=2.7.3 in c:\\users\\admin\\appdata\\local\\programs\\python\\python38\\lib\\site-packages (from pandas) (2.8.1)\n",
      "Requirement already satisfied: numpy>=1.16.5 in c:\\users\\admin\\appdata\\local\\programs\\python\\python38\\lib\\site-packages (from pandas) (1.20.1)\n",
      "Requirement already satisfied: pytz>=2017.3 in c:\\users\\admin\\appdata\\local\\programs\\python\\python38\\lib\\site-packages (from pandas) (2021.1)\n",
      "Requirement already satisfied: six>=1.5 in c:\\users\\admin\\appdata\\local\\programs\\python\\python38\\lib\\site-packages (from python-dateutil>=2.7.3->pandas) (1.15.0)\n",
      "Requirement already satisfied: datetime in c:\\users\\admin\\appdata\\local\\programs\\python\\python38\\lib\\site-packages (4.3)\n",
      "Requirement already satisfied: zope.interface in c:\\users\\admin\\appdata\\local\\programs\\python\\python38\\lib\\site-packages (from datetime) (5.2.0)\n",
      "Requirement already satisfied: pytz in c:\\users\\admin\\appdata\\local\\programs\\python\\python38\\lib\\site-packages (from datetime) (2021.1)\n",
      "Requirement already satisfied: setuptools in c:\\users\\admin\\appdata\\local\\programs\\python\\python38\\lib\\site-packages (from zope.interface->datetime) (49.2.1)\n",
      "Collecting selenium\n",
      "  Downloading selenium-3.141.0-py2.py3-none-any.whl (904 kB)\n",
      "Requirement already satisfied: urllib3 in c:\\users\\admin\\appdata\\local\\programs\\python\\python38\\lib\\site-packages (from selenium) (1.26.3)\n",
      "Installing collected packages: selenium\n",
      "Successfully installed selenium-3.141.0\n"
     ]
    }
   ],
   "source": [
    "#installing packages in JupyterLab temporarily\n",
    "import sys\n",
    "!{sys.executable} -m pip install numpy\n",
    "!{sys.executable} -m pip install bs4\n",
    "!{sys.executable} -m pip install pandas\n",
    "!{sys.executable} -m pip install datetime\n",
    "!{sys.executable} -m pip install selenium"
   ]
  },
  {
   "cell_type": "markdown",
   "id": "swedish-closer",
   "metadata": {},
   "source": [
    "**Packages**"
   ]
  },
  {
   "cell_type": "code",
   "execution_count": 113,
   "id": "adapted-design",
   "metadata": {},
   "outputs": [],
   "source": [
    "from urllib.request import Request, urlopen\n",
    "from bs4 import BeautifulSoup as BS\n",
    "from selenium import webdriver\n",
    "from datetime import datetime\n",
    "import pandas as pd\n",
    "import datetime\n",
    "import getpass\n",
    "import time\n",
    "import re"
   ]
  },
  {
   "cell_type": "markdown",
   "id": "nasty-spare",
   "metadata": {},
   "source": [
    "**All pages with urls scraping**"
   ]
  },
  {
   "cell_type": "code",
   "execution_count": 122,
   "id": "instrumental-myrtle",
   "metadata": {},
   "outputs": [
    {
     "name": "stdout",
     "output_type": "stream",
     "text": [
      "Max site number: 500\n",
      "loop:   0\n",
      "loop:   1\n",
      "loop:   2\n"
     ]
    }
   ],
   "source": [
    "############################################################################\n",
    "# Downloading offers' urls and titles from the website controlled by Selenium\n",
    "url = 'https://www.otomoto.pl/osobowe/'\n",
    "\n",
    "options = webdriver.firefox.options.Options()\n",
    "options.headless = False\n",
    "\n",
    "driver = webdriver.Firefox(executable_path=r'C:\\Users\\Admin\\Downloads\\geckodriver-v0.29.0-win64\\geckodriver.exe')\n",
    "driver.get(url)\n",
    "# create BS object from the page source\n",
    "bs = BS(driver.page_source, 'html.parser')\n",
    "\n",
    "#### click accept COOKIEs button\n",
    "# waiting a few seconds to be sure that page will be fully loaded\n",
    "time.sleep(4)\n",
    "button = driver.find_element_by_xpath('//*[@id=\"onetrust-accept-btn-handler\"]').click()\n",
    "\n",
    "# Extracting number of pages with offers list to iterate\n",
    "maxSites = bs.find_all('span', {'class':'page'})[-1].text\n",
    "print(\"Max site number: \" + maxSites)\n",
    "\n",
    "maxSites = 3 #zmienione do testowania\n",
    "\n",
    "# All offers' titles and urls scraping\n",
    "url_list = []\n",
    "title_list = []\n",
    "\n",
    "for i in range(int(maxSites)):\n",
    "    if(i > 0):\n",
    "        button = driver.find_element_by_xpath('//span[@class=\"icon-arrow_right\"]').click()\n",
    "\n",
    "    time.sleep(5)\n",
    "    bs = BS(driver.page_source, 'html.parser')\n",
    "\n",
    "    titles = bs.find_all('a', {'class':'offer-title__link'}) \n",
    "\n",
    "    links = [title['href'] for title in titles]\n",
    "    \n",
    "    titles_text = [title.text.strip() for title in titles]\n",
    " \n",
    "    for link in links:\n",
    "        url_list.append(link)\n",
    "    for title in titles_text:\n",
    "        title_list.append(title)\n",
    "        \n",
    "    print('loop:  ', i)\n",
    "    \n",
    "# Close browser:\n",
    "driver.quit()"
   ]
  },
  {
   "cell_type": "code",
   "execution_count": 123,
   "id": "european-briefing",
   "metadata": {},
   "outputs": [
    {
     "name": "stdout",
     "output_type": "stream",
     "text": [
      "['Honda Civic', 'Hyundai i20 1.25', 'Peugeot 308 SW', 'Peugeot 3008', 'Peugeot 508 2.0', 'Opel Astra 2.0', 'Volkswagen Golf GTD', 'Fiat 500X 1.4', 'Audi A4 Avant', 'Peugeot 208 1.2', 'Škoda Superb 1.4', 'Škoda Fabia 1.0', 'Škoda Octavia 2.0', 'Renault Captur', 'Kia Sportage 1.6', 'Audi A4 35', 'Volkswagen Polo 1.4', 'Seat Mii', 'Renault Espace', 'Porsche Macan S', 'Audi A7', 'Audi A1', 'Audi A6', 'Audi A5 2.0', 'Audi A8', 'Lexus NX 300h', 'Audi A4', 'Audi A5', 'Audi A4', 'Volkswagen Golf', 'Hyundai Tucson', 'Audi Q5', 'Audi A5 2.0', 'Audi A8', 'Lexus NX 300h', 'Audi A4', 'Audi A5', 'Audi A4', 'Volkswagen Golf', 'Hyundai Tucson', 'Audi Q5', 'Ford Focus 2.0', 'Audi Q7', 'Audi Q3', 'Audi A6', 'Audi A5 2.0', 'Renault Scenic', 'Volkswagen New Beetle 1.9', 'Škoda Superb 1.4', 'Opel Astra 1.4', 'Audi Q3 35', 'Audi A4 Avant', 'Renault Captur 1.0', 'Nissan Juke 1.0', 'Nissan X-Trail 1.3', 'Nissan X-Trail 1.3', 'BMW X4', 'Seat Arona', 'Škoda Superb 2.0', 'Ford Mondeo 2.0', 'Volkswagen Passat', 'Volkswagen Passat', 'Volkswagen Passat', 'Volkswagen Golf', 'Volkswagen Golf', 'Volkswagen Golf', 'Volkswagen Golf', 'Volkswagen Arteon', 'BMW Seria 3', 'Volkswagen Tiguan', 'Volkswagen Tiguan', 'Volkswagen Tiguan', 'Volkswagen Tiguan', 'Alfa Romeo Giulia 2.0', 'Seat Arona', 'Škoda Praktik 1.4', 'Škoda Octavia', 'Škoda Octavia', 'BMW Seria 5', 'Volkswagen T-Cross', 'Volkswagen T-Cross', 'Volkswagen T-Cross', 'Volkswagen T-Cross', 'BMW Seria 5 M550d', 'Hyundai Tucson 2.0', 'Škoda Fabia 1.0', 'Volkswagen up!', 'Audi A5 3.0', 'Mazda 6 2.0', 'Peugeot 307 2.0', 'BMW X5 xDrive25d', 'Volvo XC 60', 'BMW Seria 5', 'Volkswagen T-Cross 1.0', 'Opel Corsa 1.4', 'Hyundai Tucson']\n",
      "#############\n",
      "['https://www.otomoto.pl/oferta/honda-civic-viii-ufo-type-s-1-8-i-vtec-140km-benzyna-lpg-bluish-silver-ID6DFqtr.html#7ce9f71ee3', 'https://www.otomoto.pl/oferta/hyundai-i20-model-2015-klima-tempomat-ledy-100-oryg-przebieg-86tys-ID6DFqDw.html#7ce9f71ee3', 'https://www.otomoto.pl/oferta/peugeot-308-kamera-cofania-navi-ledy-wymieniony-rozrzad-panorama-dach-ID6DnekY.html#7ce9f71ee3', 'https://www.otomoto.pl/oferta/peugeot-3008-1-6-puretech-180km-eat8-gt-masaze-kamery-360-audio-focal-opcje-ID6DBWG5.html#7ce9f71ee3', 'https://www.otomoto.pl/oferta/peugeot-508-allure-navi-gps-kamera-cofania-internet-ID6DFqEi.html#7ce9f71ee3', 'https://www.otomoto.pl/oferta/opel-astra-xenon-navi-automat-innovation-ID6DEq04.html#7ce9f71ee3', 'https://www.otomoto.pl/oferta/volkswagen-golf-gtd-dsg-niski-przebieg-jak-nowy-ID6DEq1F.html#7ce9f71ee3', 'https://www.otomoto.pl/oferta/fiat-500x-fiat-500x-city-look-1-4-multiair-pop-star-hak-rejestracja-11-2016-ID6Dq309.html#7ce9f71ee3', 'https://www.otomoto.pl/oferta/audi-a4-bex-ID6DFqda.html#7ce9f71ee3', 'https://www.otomoto.pl/oferta/peugeot-208-peugot-208-28000km-benzyna-ID6Dtyj0.html#7ce9f71ee3', 'https://www.otomoto.pl/oferta/skoda-superb-iv-hybryda-plug-in-ambition-218km-matrix-alu-19-tech-ID6DjYbs.html#7ce9f71ee3', 'https://www.otomoto.pl/oferta/skoda-fabia-style-1-0-tsi-95-km-dsg-kolor-specjalny-jedyna-w-polsce-dynamic-17-ID6DwBex.html#7ce9f71ee3', 'https://www.otomoto.pl/oferta/skoda-octavia-2-0-tdi-115-km-ambition-nowa-octavia-pakiet-selection-comfort-basic-ID6DsClW.html#7ce9f71ee3', 'https://www.otomoto.pl/oferta/renault-captur-darmowa-dostawa-hist-serwisowa-klima-kierownica-wielofunkcyjna-ID6DEpZY.html#7ce9f71ee3', 'https://www.otomoto.pl/oferta/kia-sportage-kia-sportage-2017-maly-przebieg-rewelacyjny-stan-ID6Dwrpm.html#7ce9f71ee3', 'https://www.otomoto.pl/oferta/audi-a4-avant-35tfsi-150km-stronic-szary-quantum-promocja-ID6DF4A2.html#7ce9f71ee3', 'https://www.otomoto.pl/oferta/volkswagen-polo-benzyna-1-4-mpi-highline-ID6DzwvR.html#7ce9f71ee3', 'https://www.otomoto.pl/oferta/seat-mii-darmowa-dostawa-klima-isofix-navi-elektryczne-szyby-ID6DEpZg.html#7ce9f71ee3', 'https://www.otomoto.pl/oferta/renault-espace-darmowa-dostawa-klima-auto-navi-kamera-panorama-bluetooth-ID6DEpYz.html#7ce9f71ee3', 'https://www.otomoto.pl/oferta/porsche-macan-rej-02-2017-s-diesel-salonpolska-alcantara-skora-led-1-wlasciciel-ID6DBTpv.html#7ce9f71ee3', 'https://www.otomoto.pl/oferta/audi-a7-sportback-2-0-tdi-204km-s-tronic-quattro-2021-s-line-ID6DAQQf.html#7ce9f71ee3', 'https://www.otomoto.pl/oferta/audi-a1-sportback-s-line-30tfsi-110km-manual-2021-comfort-ID6DAQHB.html#7ce9f71ee3', 'https://www.otomoto.pl/oferta/audi-a6-limousine-2-0tdi-204km-quattro-stronic-sport-2021-ID6DA2zW.html#7ce9f71ee3', 'https://www.otomoto.pl/oferta/audi-a5-2-0-tfsi-252-km-quattro-s-line-b-o-virtual-cockpit-zamiana-suv-a-ID6DkB7d.html#7ce9f71ee3', 'https://www.otomoto.pl/oferta/audi-a8-50-tdi-quattro-210286-kwkm-tiptronic-ID6DtNsd.html#7ce9f71ee3', 'https://www.otomoto.pl/oferta/lexus-nx-rej-02-2019-nx300h-hybrid-salonpl-awd-ID6DDrAW.html#7ce9f71ee3', 'https://www.otomoto.pl/oferta/audi-a4-sedan-35-tfsi-110150-kwkm-s-tronic-ID6DtDKB.html#7ce9f71ee3', 'https://www.otomoto.pl/oferta/audi-a5-sportback-40-tfsi-s-tronic-204km-pakiet-comfort-2021-ID6DD5a2.html#7ce9f71ee3', 'https://www.otomoto.pl/oferta/audi-a4-sedan-35-tfsi-110150-kwkm-s-tronic-s-line-2020-ID6DD4fp.html#7ce9f71ee3', 'https://www.otomoto.pl/oferta/volkswagen-golf-darmowa-dostawa-vat-led-klima-auto-navi-1-wlasciciel-ID6DEpY8.html#7ce9f71ee3', 'https://www.otomoto.pl/oferta/hyundai-tucson-darmowa-dostawa-klima-auto-bluetooth-kierownica-wielofunkcyjna-ID6DEpXJ.html#7ce9f71ee3', 'https://www.otomoto.pl/oferta/audi-q5-advanced-40-tdi-quattro-150204-kwkm-s-tronic-2021-ID6DCJX9.html#7ce9f71ee3', 'https://www.otomoto.pl/oferta/audi-a5-2-0-tfsi-252-km-quattro-s-line-b-o-virtual-cockpit-zamiana-suv-a-ID6DkB7d.html#14a617a363', 'https://www.otomoto.pl/oferta/audi-a8-50-tdi-quattro-210286-kwkm-tiptronic-ID6DtNsd.html#14a617a363', 'https://www.otomoto.pl/oferta/lexus-nx-rej-02-2019-nx300h-hybrid-salonpl-awd-ID6DDrAW.html#14a617a363', 'https://www.otomoto.pl/oferta/audi-a4-sedan-35-tfsi-110150-kwkm-s-tronic-ID6DtDKB.html#14a617a363', 'https://www.otomoto.pl/oferta/audi-a5-sportback-40-tfsi-s-tronic-204km-pakiet-comfort-2021-ID6DD5a2.html#14a617a363', 'https://www.otomoto.pl/oferta/audi-a4-sedan-35-tfsi-110150-kwkm-s-tronic-s-line-2020-ID6DD4fp.html#14a617a363', 'https://www.otomoto.pl/oferta/volkswagen-golf-darmowa-dostawa-vat-led-klima-auto-navi-1-wlasciciel-ID6DEpY8.html#14a617a363', 'https://www.otomoto.pl/oferta/hyundai-tucson-darmowa-dostawa-klima-auto-bluetooth-kierownica-wielofunkcyjna-ID6DEpXJ.html#14a617a363', 'https://www.otomoto.pl/oferta/audi-q5-advanced-40-tdi-quattro-150204-kwkm-s-tronic-2021-ID6DCJX9.html#14a617a363', 'https://www.otomoto.pl/oferta/ford-focus-ford-focus-ghia-2-0-benzyna-bardzo-bogate-wyposazenie-ID6DFqvQ.html#14a617a363', 'https://www.otomoto.pl/oferta/audi-q7-s-line-60-tfsie-462-km-tiptronic-demo-ID6DCE6i.html#14a617a363', 'https://www.otomoto.pl/oferta/audi-q3-s-line-35-tfsi-110150-kwkm-s-tronic-demo-ID6Dypoa.html#14a617a363', 'https://www.otomoto.pl/oferta/audi-a6-avant-40tdi-150kw-204km-s-tronic-2021-ID6Dyfuv.html#14a617a363', 'https://www.otomoto.pl/oferta/audi-a5-2-0tfsi-211km-2xs-line-quattro-automat-ID6DEpQW.html#14a617a363', 'https://www.otomoto.pl/oferta/renault-scenic-darmowa-dostawa-navi-klima-auto-pdc-tempomat-hist-serwisowa-ID6DEpX4.html#14a617a363', 'https://www.otomoto.pl/oferta/volkswagen-new-beetle-1-9tdi-klima-bardzo-dobry-stan-wersja-en-vogue-mozliwa-zamiana-ID6DoctN.html#14a617a363', 'https://www.otomoto.pl/oferta/skoda-superb-1-4-benzyna-156km-automat-wersja-sportline-hybryda-demo-dealera-ID6DASz9.html#14a617a363', 'https://www.otomoto.pl/oferta/opel-astra-cosmo-1-4-turbo-150-km-fv-23-full-led-bardzo-bogate-wyposazenie-ID6DASyg.html#14a617a363', 'https://www.otomoto.pl/oferta/audi-q3-150-km-s-tronic-pakiet-czern-comfort-assistance-ID6Dyh8a.html#14a617a363', 'https://www.otomoto.pl/oferta/audi-a4-audi-a4-1-8-t-swiezo-wymeldowana03-03-2021-ID6DFqrI.html#14a617a363', 'https://www.otomoto.pl/oferta/renault-captur-zen-tce-90-od-reki-rocznik-2021-ID6DFqzT.html#14a617a363', 'https://www.otomoto.pl/oferta/nissan-juke-n-connecta-felgi-19-navi-pakiet-zimowy-ID6Doa1y.html#14a617a363', 'https://www.otomoto.pl/oferta/nissan-x-trail-1-3-dig-t-158-km-automat-dct-tekna-2020-ID6Dycy0.html#14a617a363', 'https://www.otomoto.pl/oferta/nissan-x-trail-1-3-dig-t-158-km-automat-dct-tekna-2020-ID6DycIN.html#14a617a363', 'https://www.otomoto.pl/oferta/bmw-x4-bmw-x4-m40d-reflektory-led-harman-kardon-ID6DAPPG.html#14a617a363', 'https://www.otomoto.pl/oferta/seat-arona-fr-fulllink-indukcja-salon-pl-i-wlasciciel-f-a-vat-gwarancja-fab-ID6DE46g.html#14a617a363', 'https://www.otomoto.pl/oferta/skoda-superb-super-wersja-auto-krajowe-serwisowane-w-aso-ID6Dynrs.html#14a617a363', 'https://www.otomoto.pl/oferta/ford-mondeo-2-0-benzyna-240-km-automat-power-shift-super-stan-zarejestrowany-ID6DEpTd.html#14a617a363', 'https://www.otomoto.pl/oferta/volkswagen-passat-mocca-perfekcyjny-serwisowany-gwarancja-mechaniczna-sliczny-ID6Dze7l.html#14a617a363', 'https://www.otomoto.pl/oferta/volkswagen-passat-var-business-1-5tsi-150km-dsg-easy-open-kamera-alarm-od-reki-ID6Dv2Up.html#14a617a363', 'https://www.otomoto.pl/oferta/volkswagen-passat-var-essence-1-5tsi-150km-dsg-kamera-app-connect-alarm-od-reki-ID6Dv2Ii.html#14a617a363', 'https://www.otomoto.pl/oferta/volkswagen-golf-var-life-1-0etsi-110km-dsg-kamera-podgrz-fot-alarm-od-reki-ID6DvCDh.html#14a617a363', 'https://www.otomoto.pl/oferta/volkswagen-golf-var-life-1-0etsi-110km-dsg-kamera-podgrz-fot-alarm-od-reki-ID6DvCrR.html#4c2dca9b21', 'https://www.otomoto.pl/oferta/volkswagen-golf-life-1-0-etsi-mhev-110km-dsg-podgrz-fot-alu-17-alarm-leasing-101-ID6DrgoQ.html#4c2dca9b21', 'https://www.otomoto.pl/oferta/volkswagen-golf-highline-salon-pl-i-wlasciciel-f-a-vat-12-m-cy-gwar-ergofotele-ID6DEjn7.html#4c2dca9b21', 'https://www.otomoto.pl/oferta/volkswagen-arteon-elegance-2-0tsi-190km-dsg-navi-pro-kamera-360-side-assist-od-reki-ID6DCdgT.html#4c2dca9b21', 'https://www.otomoto.pl/oferta/bmw-seria-3-oryginal-alpina-297-d3-350ps-h-k-szyberdach-fv-ID6DyAR6.html#4c2dca9b21', 'https://www.otomoto.pl/oferta/volkswagen-tiguan-elegance-1-5tsi-150km-dsg-side-assist-kamera-navi-vw-leasing-ID6DAgmX.html#4c2dca9b21', 'https://www.otomoto.pl/oferta/volkswagen-tiguan-1-5tsi-130km-cz-park-podgrz-fot-alarm-alu-17-vw-leasing-ID6DAsKW.html#4c2dca9b21', 'https://www.otomoto.pl/oferta/volkswagen-tiguan-1-5tsi-130km-cz-park-podgrz-fot-alarm-alu-17-vw-leasing-ID6DAsqB.html#4c2dca9b21', 'https://www.otomoto.pl/oferta/volkswagen-tiguan-life-1-5tsi-150km-dsg-easy-open-kamera-navi-alarm-vw-leasing-ID6DAhkx.html#4c2dca9b21', 'https://www.otomoto.pl/oferta/alfa-romeo-giulia-2-0-280km-q4-veloce-2019-nowy-ID6CNoHJ.html#4c2dca9b21', 'https://www.otomoto.pl/oferta/seat-arona-fr-fulllink-indukcja-salon-pl-i-wlasciciel-f-a-vat-gwarancja-fab-ID6DE8BB.html#4c2dca9b21', 'https://www.otomoto.pl/oferta/skoda-praktik-praktikduzo-nowych-czesci-klimatyzacja-alufelgi-okazja-ID6DEmdu.html#4c2dca9b21', 'https://www.otomoto.pl/oferta/skoda-octavia-kombi-style-1-5tsi-150km-ID6DASNh.html#4c2dca9b21', 'https://www.otomoto.pl/oferta/skoda-octavia-4x4-dsg-190km-salon-pl-i-wlasciciel-f-a-vat-gwarancja-fabryczna-ID6DwUHN.html#4c2dca9b21', 'https://www.otomoto.pl/oferta/bmw-seria-5-530xd-4x4-manual-lift-fv-23-e61-ID6DwzED.html#4c2dca9b21', 'https://www.otomoto.pl/oferta/volkswagen-t-cross-life-1-0tsi-110km-dsg-cz-park-podgrz-fot-app-connect-od-reki-ID6DvSik.html#4c2dca9b21', 'https://www.otomoto.pl/oferta/volkswagen-t-cross-life-1-0tsi-110km-cz-park-podgrz-fot-app-connect-od-reki-ID6Dwd6U.html#4c2dca9b21', 'https://www.otomoto.pl/oferta/volkswagen-t-cross-style-1-0tsi-110km-kamera-aktyw-wysw-app-connect-alarm-od-reki-ID6Dwe3k.html#4c2dca9b21', 'https://www.otomoto.pl/oferta/volkswagen-t-cross-style-1-0tsi-115km-dsg-kamera-aktyw-wysw-navi-alu-17-od-reki-ID6Dwewh.html#4c2dca9b21', 'https://www.otomoto.pl/oferta/bmw-seria-5-m550d-381-km-xdrive-org-przebieg-maksymalne-wyposazenie-bezwypadkowa-ID6DEo9Q.html#4c2dca9b21', 'https://www.otomoto.pl/oferta/hyundai-tucson-hyundai-tucson-2-0-crdi-185km-4x4-automat-pelna-opcja-1-wlasciciel-ID6DF3Il.html#4c2dca9b21', 'https://www.otomoto.pl/oferta/skoda-fabia-1-0-mpi-active-salon-polska-serwis-aso-ID6DpVy1.html#4c2dca9b21', 'https://www.otomoto.pl/oferta/volkswagen-up-move-up-65km-podgrz-fot-kier-multi-kolo-zapas-kredyt-50-50-ID6Du4v3.html#4c2dca9b21', 'https://www.otomoto.pl/oferta/audi-a5-3-0-tdi-cduc-s-tronic-quattro-245km-ID6DB2kh.html#4c2dca9b21', 'https://www.otomoto.pl/oferta/mazda-6-2-0l-165km-automat-tylko-500-km-przebiegu-salonowy-bezwypadkowy-ID6DEpQi.html#4c2dca9b21', 'https://www.otomoto.pl/oferta/peugeot-307-peugeot-307-kombi-break-hdi-2005-100kw-136km-ID6Dv0b5.html#4c2dca9b21', 'https://www.otomoto.pl/oferta/bmw-x5-sprzedaz-ID6Dl4IP.html#4c2dca9b21', 'https://www.otomoto.pl/oferta/volvo-xc-60-ocean-racepamiec-foteleradar-blis-asystent-pasa-kameraele-klapa-ID6DEpPK.html#4c2dca9b21', 'https://www.otomoto.pl/oferta/bmw-seria-5-530e-xdrive-m-pakiet-auto-demo-krakow-ID6DwVw7.html#4c2dca9b21', 'https://www.otomoto.pl/oferta/volkswagen-t-cross-life-1-0-tsi-81-kw-110-km-dsg-7-stopniowa-rok-produkcji-2021-ID6DCfPR.html#4c2dca9b21', 'https://www.otomoto.pl/oferta/opel-corsa-1-4-90km-enjoy-pierwszy-wlasciciel-salon-polska-dealer-vw-ID6DFpPq.html#4c2dca9b21', 'https://www.otomoto.pl/oferta/hyundai-tucson-1-6t-gdi177-psfull-ledskoranavikameraalu19-el-foteleprogiserw-ID6DDM36.html#4c2dca9b21']\n"
     ]
    }
   ],
   "source": [
    "print(title_list)\n",
    "print(\"#############\")\n",
    "print(url_list)"
   ]
  },
  {
   "cell_type": "code",
   "execution_count": 124,
   "id": "heard-watson",
   "metadata": {},
   "outputs": [],
   "source": [
    "# Save urls to df\n",
    "urls_df = pd.DataFrame({'offer_title': title_list, 'link': url_list})"
   ]
  },
  {
   "cell_type": "code",
   "execution_count": 125,
   "id": "isolated-litigation",
   "metadata": {},
   "outputs": [
    {
     "name": "stdout",
     "output_type": "stream",
     "text": [
      "info:\n",
      "<class 'pandas.core.frame.DataFrame'>\n",
      "RangeIndex: 96 entries, 0 to 95\n",
      "Data columns (total 2 columns):\n",
      " #   Column       Non-Null Count  Dtype \n",
      "---  ------       --------------  ----- \n",
      " 0   offer_title  96 non-null     object\n",
      " 1   link         96 non-null     object\n",
      "dtypes: object(2)\n",
      "memory usage: 1.6+ KB\n",
      "None\n",
      "head:\n",
      "        offer_title                                               link\n",
      "0       Honda Civic  https://www.otomoto.pl/oferta/honda-civic-viii...\n",
      "1  Hyundai i20 1.25  https://www.otomoto.pl/oferta/hyundai-i20-mode...\n",
      "2    Peugeot 308 SW  https://www.otomoto.pl/oferta/peugeot-308-kame...\n",
      "3      Peugeot 3008  https://www.otomoto.pl/oferta/peugeot-3008-1-6...\n",
      "4   Peugeot 508 2.0  https://www.otomoto.pl/oferta/peugeot-508-allu...\n"
     ]
    }
   ],
   "source": [
    "print('info:')\n",
    "print(urls_df.info())\n",
    "print('head:')\n",
    "print(urls_df.head())"
   ]
  },
  {
   "cell_type": "code",
   "execution_count": 110,
   "id": "thick-receipt",
   "metadata": {},
   "outputs": [],
   "source": [
    "headerOne = {'User-Agent': 'Mozilla/5.0'}\n",
    "\n",
    "req = Request(site, headers=headerOne)\n",
    "\n",
    "html = urlopen(req)\n",
    "bs = BS(html.read(), 'html.parser')"
   ]
  },
  {
   "cell_type": "code",
   "execution_count": null,
   "id": "respective-comparison",
   "metadata": {},
   "outputs": [],
   "source": []
  }
 ],
 "metadata": {
  "kernelspec": {
   "display_name": "Python 3",
   "language": "python",
   "name": "python3"
  },
  "language_info": {
   "codemirror_mode": {
    "name": "ipython",
    "version": 3
   },
   "file_extension": ".py",
   "mimetype": "text/x-python",
   "name": "python",
   "nbconvert_exporter": "python",
   "pygments_lexer": "ipython3",
   "version": "3.8.7"
  }
 },
 "nbformat": 4,
 "nbformat_minor": 5
}
